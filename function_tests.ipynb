{
 "cells": [
  {
   "cell_type": "markdown",
   "metadata": {},
   "source": [
    "# Load data"
   ]
  },
  {
   "cell_type": "code",
   "execution_count": 199,
   "metadata": {},
   "outputs": [],
   "source": [
    "# Load openpyxl\n",
    "from openpyxl import load_workbook, Workbook\n",
    "from openpyxl.utils.dataframe import dataframe_to_rows\n",
    "from openpyxl.styles import Font\n",
    "from openpyxl.utils import get_column_letter"
   ]
  },
  {
   "cell_type": "code",
   "execution_count": 200,
   "metadata": {},
   "outputs": [],
   "source": [
    "import pandas as pd\n",
    "\n",
    "# existing_file_path = 'data/input/test_input.xlsx'\n",
    "# existing_file_path = 'data/input/test_input_minimized.xlsx'\n",
    "# existing_file_path = 'data/input/test_data_table.xlsx'\n",
    "existing_file_path = 'data/input/tc_pride_data.xlsx'\n",
    "new_file_path = 'data/output/test_output.xlsx'\n",
    "\n",
    "df = pd.read_excel(existing_file_path)"
   ]
  },
  {
   "cell_type": "markdown",
   "metadata": {},
   "source": [
    "# Reading data with pandas"
   ]
  },
  {
   "cell_type": "code",
   "execution_count": 201,
   "metadata": {},
   "outputs": [],
   "source": [
    "# Read the entire dataframe\n",
    "# df\n",
    "\n",
    "## Read headers\n",
    "# print(df.columns)\n",
    "\n",
    "## Read individual columns\n",
    "# print(df.Date)\n",
    "#  or\n",
    "# print(df['Net Donation'])\n",
    "#  or\n",
    "# print(df[['Date', \"Description\", \"Net Donation\"]])\n",
    "\n",
    "## Read top 3 rows\n",
    "# print(df.head(3))\n",
    "\n",
    "## Read row 3 (which has an index of 2),\n",
    "# print(df.iloc[2])\n",
    "# then 1-5 (which is index 0-4)\n",
    "# print(df.iloc[0:5])\n",
    "# Read specific location (R, C)\n",
    "# print(df.iloc[2, 1]) # 3rd row, 2nd column\n",
    "\n",
    "## Iterate over rows\n",
    "# for index, row in df.iterrows():\n",
    "    # print(index, row['Date'], row['Description'])\n",
    "    # print(index, row)\n",
    "    # print(index, row.Date)\n",
    "\n",
    "# Conditional selection of rows\n",
    "# df.loc[df['Net Donation'] > 60]\n",
    "\n",
    "# Generate statistics\n",
    "# df.describe()\n"
   ]
  },
  {
   "cell_type": "markdown",
   "metadata": {},
   "source": [
    "# Sorting data"
   ]
  },
  {
   "cell_type": "code",
   "execution_count": 202,
   "metadata": {},
   "outputs": [],
   "source": [
    "# df # Before sorting\n",
    "\n",
    "# Sorting by single columns\n",
    "# df = df.sort_values(by=['Description'])\n",
    "# df = df.sort_values(by=['Event'])\n",
    "# df = df.sort_values(by=['Source Title'])\n",
    "\n",
    "# Sorting can be done on multiple columns with this one line of code\n",
    "df = df.sort_values(by=['Source Title','Event','Description'])\n",
    "\n",
    "# print(df)\n",
    "# df # After sorting"
   ]
  },
  {
   "cell_type": "markdown",
   "metadata": {},
   "source": [
    "# Sum revenue into different categories"
   ]
  },
  {
   "cell_type": "code",
   "execution_count": 203,
   "metadata": {},
   "outputs": [],
   "source": [
    "\n",
    "def categorize_revenue(description, event, source_title):\n",
    "  category = 'unknown'\n",
    "  # determine which category the row belongs to\n",
    "  # Pride festival\n",
    "  # it's the festival if the event contains 'Twin Cities Pride Festival'\n",
    "  if 'twin cities pride festival' in event and ('pride march' not in source_title and 'book fair' not in source_title):\n",
    "    category = 'Pride Festival'\n",
    "\n",
    "  # Pride parade\n",
    "  # It's a parade if the event contains 'Twin Cities Pride Festival' and source title contains \"TC Pride March Application\"\n",
    "  if 'twin cities pride festival' in event and 'pride march' in source_title:\n",
    "    category = 'Pride Parade'\n",
    "  \n",
    "  # Book fair\n",
    "  # book fair is in the event or source title\n",
    "  if 'book fair' in event or 'book fair' in source_title:\n",
    "    category = 'Book Fair'\n",
    "\n",
    "  # Donation\n",
    "  # if 'subscription' is in the description, it's a donation\n",
    "  if 'subscription' in description or 'donation' in description:\n",
    "    category = 'Donation'\n",
    "  \n",
    "  # Merchandise\n",
    "  if 'twin cities pride - order' in description:\n",
    "    category = 'Merchandise'\n",
    "  \n",
    "  return category\n",
    "\n",
    "\n",
    "def check_refund(description, net_donation):\n",
    "  if ('refund' in description or 'return' in description) and net_donation < 0:\n",
    "    return True\n",
    "  else:\n",
    "    return False\n",
    "\n",
    "def safe_lower(input):\n",
    "    if isinstance(input, str):  # Checks if input is a string\n",
    "        return input.lower()\n",
    "    else:\n",
    "        return '' # If not a string, return an empty string\n",
    "\n",
    "def safe_number(input):\n",
    "    if isinstance(input, (int, float)):  # Checks if input is a number\n",
    "        return input\n",
    "    else:\n",
    "        return 0 # If not a number, return 0\n",
    "\n",
    "# Variables\n",
    "category_map = {}\n",
    "total_donations = 0\n",
    "\n",
    "# OPTIONAL - Set the preferred date format\n",
    "preferred_date_format = 'string'\n",
    "# OPTIONAL - Set the preferred date format\n",
    "\n",
    "for index, row in df.iterrows():\n",
    "  description = safe_lower(row['Description'])\n",
    "  event = safe_lower(row['Event'])\n",
    "  source_title = safe_lower(row['Source Title'])\n",
    "  net_donation = safe_number(row['Net Donation'])\n",
    "  \n",
    "  # Categorize\n",
    "  category = categorize_revenue(description, event, source_title)\n",
    "  # Add it to the dataframe\n",
    "  df.at[index, 'Category'] = category\n",
    "  \n",
    "  \n",
    "  # OPTIONAL: Convert the Date column to a string\n",
    "  # If the Date column is a datetime object, convert it to a string\n",
    "  if preferred_date_format == 'string' and isinstance(row['Date'], pd.Timestamp):\n",
    "    df.at[index, 'Date'] = row['Date'].strftime('%m/%d/%Y')\n",
    "  elif preferred_date_format == 'datetime' and isinstance(row['Date'], str):\n",
    "    df.at[index, 'Date'] = pd.to_datetime(row['Date'])\n",
    "  # OPTIONAL: Convert the Date column to a string\n",
    "  \n",
    "  \n",
    "  # Check for refund\n",
    "  is_refund = check_refund(description, net_donation)\n",
    "  \n",
    "  # Add category to map\n",
    "  if category not in category_map:\n",
    "    category_map[category] = 0\n",
    "\n",
    "  # Sum up donations\n",
    "  category_map[category] += net_donation\n",
    "  total_donations += net_donation\n",
    "  \n",
    "  # print('category is:', category, '. refund?:', is_refund)\n",
    "  # Check the description, event, and source against a dictionary of keywords\n",
    "\n",
    "# print(category_map)\n",
    "# print('Total donations:', total_donations)\n"
   ]
  },
  {
   "cell_type": "markdown",
   "metadata": {},
   "source": [
    "# Convert the dataframe data back into its original form\n"
   ]
  },
  {
   "cell_type": "code",
   "execution_count": 204,
   "metadata": {},
   "outputs": [],
   "source": [
    "# Date conversions might be needed for writing to excel files\n",
    "# df['Date'] = pd.to_datetime(df['Date'])\n",
    "\n",
    "# Turn the date into a string\n",
    "# df.at[index, 'Date (as string)'] = row['Date'].strftime('%m/%d/%Y')\n",
    "# df['Date'] = df['Date'].dt.strftime('%m/%d/%Y')"
   ]
  },
  {
   "cell_type": "markdown",
   "metadata": {},
   "source": [
    "# Openpyxl to write data into a template file"
   ]
  },
  {
   "cell_type": "code",
   "execution_count": 205,
   "metadata": {},
   "outputs": [
    {
     "data": {
      "text/plain": [
       "\"\\n\\n# Load the pre-formatted Excel template\\nwb = load_workbook('data/output/test_template.xlsx')\\nws = wb.active\\n\\n\\n# Need to get the column names in order to input all the data in the correct columns\\n# Get the column names from dataframe as an Index object\\ncolumn_names = df.columns\\n\\n# Define starting cell row and column for data insertion\\nstart_row = 2\\nstart_col = 1\\n\\n# Insert DataFrame data into Excel based on column names\\nfor index, row in df.iterrows():\\n    for col_index, column_name in enumerate(column_names):\\n        cell = ws.cell(row=index + start_row, column=col_index + start_col, value=row[column_name])\\n\\n\\n# Save the workbook as the final output\\nwb.save('data/output/final_output_from_template.xlsx')\""
      ]
     },
     "execution_count": 205,
     "metadata": {},
     "output_type": "execute_result"
    }
   ],
   "source": [
    "# This uses openpyxl to load the pre-formatted Excel template and insert the data from the DataFrame into the correct columns\n",
    "\"\"\"\n",
    "\n",
    "# Load the pre-formatted Excel template\n",
    "wb = load_workbook('data/output/test_template.xlsx')\n",
    "ws = wb.active\n",
    "\n",
    "\n",
    "# Need to get the column names in order to input all the data in the correct columns\n",
    "# Get the column names from dataframe as an Index object\n",
    "column_names = df.columns\n",
    "\n",
    "# Define starting cell row and column for data insertion\n",
    "start_row = 2\n",
    "start_col = 1\n",
    "\n",
    "# Insert DataFrame data into Excel based on column names\n",
    "for index, row in df.iterrows():\n",
    "    for col_index, column_name in enumerate(column_names):\n",
    "        cell = ws.cell(row=index + start_row, column=col_index + start_col, value=row[column_name])\n",
    "\n",
    "\n",
    "# Save the workbook as the final output\n",
    "wb.save('data/output/final_output_from_template.xlsx')\"\"\""
   ]
  },
  {
   "cell_type": "markdown",
   "metadata": {},
   "source": [
    "# Pandas writing to a new Excel sheet"
   ]
  },
  {
   "cell_type": "code",
   "execution_count": 206,
   "metadata": {},
   "outputs": [],
   "source": [
    "# Pandas method to save the dataframe to an excel file\n",
    "df.to_excel(new_file_path, index=False)\n",
    "\n",
    "# Alternative saving method, this tries to preserve date column format using Pandas\n",
    "# with pd.ExcelWriter('output.xlsx', date_format='mm/dd/yyyy hh:mm:ss', datetime_format='mm/dd/yyyy hh:mm:ss') as writer:\n",
    "#     df.to_excel(writer, index=False)"
   ]
  },
  {
   "cell_type": "markdown",
   "metadata": {},
   "source": [
    "# Use Openpyxl to make formatting changes"
   ]
  },
  {
   "cell_type": "markdown",
   "metadata": {},
   "source": [
    "### Use Openpyxl to save the format of each column before they're overwritten"
   ]
  },
  {
   "cell_type": "code",
   "execution_count": 207,
   "metadata": {},
   "outputs": [
    {
     "name": "stdout",
     "output_type": "stream",
     "text": [
      "[(1, 'd-mmm-yy'), (2, 'General'), (3, '\"$\"#,##0.00'), (4, 'General'), (5, 'General'), (6, '\"$\"#,##0.00'), (7, 'General'), (8, 'General'), (9, 'General')]\n"
     ]
    }
   ],
   "source": [
    "# Load the original workbook and active sheet\n",
    "wb = load_workbook(existing_file_path)\n",
    "ws = wb.active\n",
    "\n",
    "# Store formatting in a dictionary\n",
    "original_formats = []\n",
    "# Get the second row and iterate through each cell\n",
    "row = ws[2]\n",
    "for cell in row:\n",
    "    # Store number format for each cell\n",
    "    # Push the column and the number format to the dictionary array\n",
    "    original_formats.append((cell.column, cell.number_format))\n",
    "\n",
    "print(original_formats)"
   ]
  },
  {
   "cell_type": "code",
   "execution_count": 208,
   "metadata": {},
   "outputs": [],
   "source": [
    "# Load worksheet\n",
    "wb = load_workbook(filename=new_file_path) # load the file path that's been created by the first script\n",
    "ws = wb.active"
   ]
  },
  {
   "cell_type": "markdown",
   "metadata": {},
   "source": [
    "### Currency/Date number formatting for cells"
   ]
  },
  {
   "cell_type": "code",
   "execution_count": 209,
   "metadata": {},
   "outputs": [],
   "source": [
    "currency_format = '\"$\"#,##0.00'\n",
    "date_format = 'd-mmm-yy'\n",
    "\n",
    "columns_to_format = {\n",
    "    'Date': date_format,\n",
    "    'Net Donation': currency_format,\n",
    "    'Stripe Fee': currency_format,\n",
    "    'Platform Fee': currency_format,\n",
    "    'Total Gross Donation': currency_format,\n",
    "                    }\n",
    "\n",
    "# Loop through the ws columns\n",
    "for col in ws.columns:\n",
    "    # Get the column letter\n",
    "    col_letter = get_column_letter(col[0].column)\n",
    "    print(col[0].value)\n",
    "    # Check if the column is in the columns_to_format dictionary\n",
    "    if col[0].value in columns_to_format:\n",
    "        print('Formatting column', col[0].value)\n",
    "    #     # Get the format from the dictionary\n",
    "        col_format = columns_to_format[col[0].value]\n",
    "    #     # Apply the format to the entire column\n",
    "        for cell in col:\n",
    "            cell.number_format = col_format"
   ]
  },
  {
   "cell_type": "markdown",
   "metadata": {},
   "source": [
    "### Color formatting the cells"
   ]
  },
  {
   "cell_type": "code",
   "execution_count": null,
   "metadata": {},
   "outputs": [],
   "source": []
  },
  {
   "cell_type": "markdown",
   "metadata": {},
   "source": [
    "### Adding the categories and totals"
   ]
  },
  {
   "cell_type": "code",
   "execution_count": 210,
   "metadata": {},
   "outputs": [],
   "source": [
    "# Add revenue categories and donation total\n",
    "ws.append([])\n",
    "ws.append([])\n",
    "\n",
    "# Convert dictionary to list\n",
    "category_map_list = []\n",
    "for category in category_map:\n",
    "  category_map_list.append([category, category_map[category]])\n",
    "category_map_list.sort()\n",
    "\n",
    "# TEMPORARY TEST\n",
    "# test_list = [['Book Fair', 25.0],['Donation', 22.03],['Merchandise', 102.06], ['Pride Festival', 10725.0], ['Pride Parade', 50.0]]\n",
    "# category_map_list = test_list\n",
    "# TEMPORARY TEST\n",
    "\n",
    "cells_to_convert_to_currency = []\n",
    "\n",
    "# Append the values\n",
    "for category in category_map_list:\n",
    "  # Append the category key, and the value as a currency\n",
    "  ws.append([category[0], category[1]])\n",
    "  # Get the cell to convert to currency\n",
    "  cells_to_convert_to_currency.append(f\"B{ws.max_row}\")\n",
    "ws.append(['Total', total_donations])\n",
    "cells_to_convert_to_currency.append(f\"B{ws.max_row}\")\n",
    "\n",
    "# Loop through the cells and convert to currency\n",
    "for cell in cells_to_convert_to_currency:\n",
    "  ws[f\"{cell}\"].number_format = '\"$\"#,##0.00'\n",
    "\n",
    "# Temporary variable assignment\n",
    "spreadsheet_title = 'Payout Report for $123.45 on Mar 7 - asdfghjk'\n",
    "# Temporary variable assignment\n",
    "\n",
    "# Add spreadsheet title\n",
    "ws.append([])\n",
    "ws.append([])\n",
    "ws.append([spreadsheet_title])"
   ]
  },
  {
   "cell_type": "markdown",
   "metadata": {},
   "source": [
    "### Save the file"
   ]
  },
  {
   "cell_type": "code",
   "execution_count": 211,
   "metadata": {},
   "outputs": [],
   "source": [
    "# Save the workbook to a new file\n",
    "wb.save(new_file_path)"
   ]
  }
 ],
 "metadata": {
  "kernelspec": {
   "display_name": "Python 3",
   "language": "python",
   "name": "python3"
  },
  "language_info": {
   "codemirror_mode": {
    "name": "ipython",
    "version": 3
   },
   "file_extension": ".py",
   "mimetype": "text/x-python",
   "name": "python",
   "nbconvert_exporter": "python",
   "pygments_lexer": "ipython3",
   "version": "3.9.6"
  }
 },
 "nbformat": 4,
 "nbformat_minor": 2
}
