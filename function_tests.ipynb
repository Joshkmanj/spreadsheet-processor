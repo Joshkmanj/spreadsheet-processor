{
 "cells": [
  {
   "cell_type": "markdown",
   "metadata": {},
   "source": [
    "# Load data"
   ]
  },
  {
   "cell_type": "code",
   "execution_count": 70,
   "metadata": {},
   "outputs": [],
   "source": [
    "import pandas as pd\n",
    "\n",
    "# existing_file_path = 'data/input/test_input.xlsx'\n",
    "# existing_file_path = 'data/input/test_input_minimized.xlsx'\n",
    "existing_file_path = 'data/input/test_data_table.xlsx'\n",
    "\n",
    "df = pd.read_excel(existing_file_path)"
   ]
  },
  {
   "cell_type": "markdown",
   "metadata": {},
   "source": [
    "# Reading data with pandas"
   ]
  },
  {
   "cell_type": "code",
   "execution_count": 71,
   "metadata": {},
   "outputs": [],
   "source": [
    "# Read the entire dataframe\n",
    "# df\n",
    "\n",
    "## Read headers\n",
    "# print(df.columns)\n",
    "\n",
    "## Read individual columns\n",
    "# print(df.Date)\n",
    "#  or\n",
    "# print(df['Net Donation'])\n",
    "#  or\n",
    "# print(df[['Date', \"Description\", \"Net Donation\"]])\n",
    "\n",
    "## Read top 3 rows\n",
    "# print(df.head(3))\n",
    "\n",
    "## Read row 3 (which has an index of 2),\n",
    "# print(df.iloc[2])\n",
    "# then 1-5 (which is index 0-4)\n",
    "# print(df.iloc[0:5])\n",
    "# Read specific location (R, C)\n",
    "# print(df.iloc[2, 1]) # 3rd row, 2nd column\n",
    "\n",
    "## Iterate over rows\n",
    "# for index, row in df.iterrows():\n",
    "    # print(index, row['Date'], row['Description'])\n",
    "    # print(index, row)\n",
    "    # print(index, row.Date)\n",
    "\n",
    "# Conditional selection of rows\n",
    "# df.loc[df['Net Donation'] > 60]\n",
    "\n",
    "# Generate statistics\n",
    "# df.describe()\n"
   ]
  },
  {
   "cell_type": "markdown",
   "metadata": {},
   "source": [
    "# Sorting data"
   ]
  },
  {
   "cell_type": "code",
   "execution_count": 72,
   "metadata": {},
   "outputs": [],
   "source": [
    "# df # Before sorting\n",
    "\n",
    "# Sorting by single columns\n",
    "# df = df.sort_values(by=['Description'])\n",
    "# df = df.sort_values(by=['Event'])\n",
    "# df = df.sort_values(by=['Source Title'])\n",
    "\n",
    "# Sorting can be done on multiple columns with this one line of code\n",
    "df = df.sort_values(by=['Source Title','Event','Description'])\n",
    "\n",
    "# df # After sorting"
   ]
  },
  {
   "cell_type": "markdown",
   "metadata": {},
   "source": [
    "# Convert the dataframe data back into its original form\n"
   ]
  },
  {
   "cell_type": "code",
   "execution_count": null,
   "metadata": {},
   "outputs": [],
   "source": [
    "# Date conversions might be needed for writing to excel files\n",
    "# df['Date'] = pd.to_datetime(df['Date'],dayfirst=True)"
   ]
  },
  {
   "cell_type": "markdown",
   "metadata": {},
   "source": [
    "# Write to Excel"
   ]
  },
  {
   "cell_type": "code",
   "execution_count": null,
   "metadata": {},
   "outputs": [],
   "source": [
    "df.to_excel('data/output/test_output.xlsx', index=False)"
   ]
  }
 ],
 "metadata": {
  "kernelspec": {
   "display_name": "Python 3",
   "language": "python",
   "name": "python3"
  },
  "language_info": {
   "codemirror_mode": {
    "name": "ipython",
    "version": 3
   },
   "file_extension": ".py",
   "mimetype": "text/x-python",
   "name": "python",
   "nbconvert_exporter": "python",
   "pygments_lexer": "ipython3",
   "version": "3.9.6"
  }
 },
 "nbformat": 4,
 "nbformat_minor": 2
}
