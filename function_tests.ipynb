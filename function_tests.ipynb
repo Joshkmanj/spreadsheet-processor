{
 "cells": [
  {
   "cell_type": "markdown",
   "metadata": {},
   "source": [
    "# Load data"
   ]
  },
  {
   "cell_type": "code",
   "execution_count": 56,
   "metadata": {},
   "outputs": [],
   "source": [
    "# Load openpyxl\n",
    "from openpyxl import load_workbook\n",
    "from openpyxl.utils.dataframe import dataframe_to_rows"
   ]
  },
  {
   "cell_type": "code",
   "execution_count": 57,
   "metadata": {},
   "outputs": [],
   "source": [
    "import pandas as pd\n",
    "\n",
    "# existing_file_path = 'data/input/test_input.xlsx'\n",
    "# existing_file_path = 'data/input/test_input_minimized.xlsx'\n",
    "# existing_file_path = 'data/input/test_data_table.xlsx'\n",
    "existing_file_path = 'data/input/tc_pride_data.xlsx'\n",
    "new_file_path = 'data/output/test_output.xlsx'\n",
    "\n",
    "df = pd.read_excel(existing_file_path)"
   ]
  },
  {
   "cell_type": "markdown",
   "metadata": {},
   "source": [
    "# Reading data with pandas"
   ]
  },
  {
   "cell_type": "code",
   "execution_count": 58,
   "metadata": {},
   "outputs": [],
   "source": [
    "# Read the entire dataframe\n",
    "# df\n",
    "\n",
    "## Read headers\n",
    "# print(df.columns)\n",
    "\n",
    "## Read individual columns\n",
    "# print(df.Date)\n",
    "#  or\n",
    "# print(df['Net Donation'])\n",
    "#  or\n",
    "# print(df[['Date', \"Description\", \"Net Donation\"]])\n",
    "\n",
    "## Read top 3 rows\n",
    "# print(df.head(3))\n",
    "\n",
    "## Read row 3 (which has an index of 2),\n",
    "# print(df.iloc[2])\n",
    "# then 1-5 (which is index 0-4)\n",
    "# print(df.iloc[0:5])\n",
    "# Read specific location (R, C)\n",
    "# print(df.iloc[2, 1]) # 3rd row, 2nd column\n",
    "\n",
    "## Iterate over rows\n",
    "# for index, row in df.iterrows():\n",
    "    # print(index, row['Date'], row['Description'])\n",
    "    # print(index, row)\n",
    "    # print(index, row.Date)\n",
    "\n",
    "# Conditional selection of rows\n",
    "# df.loc[df['Net Donation'] > 60]\n",
    "\n",
    "# Generate statistics\n",
    "# df.describe()\n"
   ]
  },
  {
   "cell_type": "markdown",
   "metadata": {},
   "source": [
    "# Sorting data"
   ]
  },
  {
   "cell_type": "code",
   "execution_count": 59,
   "metadata": {},
   "outputs": [
    {
     "name": "stdout",
     "output_type": "stream",
     "text": [
      "         Date                                   Description  Net Donation  \\\n",
      "1  2024-02-26  REFUND FOR PAYMENT (michelle.angelo@umn.edu)       -625.00   \n",
      "0  2024-03-08                              jeffmd@yahoo.com       8150.00   \n",
      "2  2024-02-24                            thomasjt@gmail.com       3150.00   \n",
      "3  2024-03-06                             mncompany@aol.com         50.00   \n",
      "4  2024-03-05                            wxspress@gmail.com         25.00   \n",
      "5  2024-03-10                        director@eservices.org         50.00   \n",
      "6  2024-02-26           Billing (2024-02-25): Subscriptions         -0.02   \n",
      "7  2024-02-25                       Harness Custom Donation          4.00   \n",
      "8  2024-02-25        One-time donation to Twin Cities Pride         10.00   \n",
      "9  2024-02-25                         Subscription creation          3.02   \n",
      "10 2024-03-07                           Subscription update          5.03   \n",
      "11 2024-03-08               Twin Cities Pride - Order 40036        102.06   \n",
      "\n",
      "    Stripe Fee  Platform Fee  Total Gross Donation  \\\n",
      "1          NaN           NaN               -625.00   \n",
      "0          NaN           NaN               8150.00   \n",
      "2          NaN           NaN               3150.00   \n",
      "3          NaN           NaN                 50.00   \n",
      "4          NaN           NaN                 25.00   \n",
      "5          NaN           NaN                 50.00   \n",
      "6          NaN           NaN                 -0.02   \n",
      "7         0.43          0.12                  4.55   \n",
      "8         0.62          0.30                 10.92   \n",
      "9         0.40          0.09                  3.51   \n",
      "10        0.46          0.15                  5.64   \n",
      "11        3.36           NaN                105.42   \n",
      "\n",
      "                              Event                         Source Title  \n",
      "1   2024 Twin Cities Pride Festival   2024 Booth Vendor - Pride Festival  \n",
      "0   2024 Twin Cities Pride Festival   2024 Booth Vendor - Pride Festival  \n",
      "2   2024 Twin Cities Pride Festival  2024 Food Vendor - Location #2 Only  \n",
      "3   2024 Twin Cities Pride Festival    2024 Food Vendor - Pride Festival  \n",
      "4   2024 Twin Cities Pride Festival  2024 Queer Writes Book Fair @ Pride  \n",
      "5   2024 Twin Cities Pride Festival      2024 TC Pride March Application  \n",
      "6                               NaN                                  NaN  \n",
      "7                               NaN                                  NaN  \n",
      "8                               NaN                                  NaN  \n",
      "9                               NaN                                  NaN  \n",
      "10                              NaN                                  NaN  \n",
      "11                              NaN                                  NaN  \n"
     ]
    }
   ],
   "source": [
    "# df # Before sorting\n",
    "\n",
    "# Sorting by single columns\n",
    "# df = df.sort_values(by=['Description'])\n",
    "# df = df.sort_values(by=['Event'])\n",
    "# df = df.sort_values(by=['Source Title'])\n",
    "\n",
    "# Sorting can be done on multiple columns with this one line of code\n",
    "df = df.sort_values(by=['Source Title','Event','Description'])\n",
    "\n",
    "print(df)\n",
    "# df # After sorting"
   ]
  },
  {
   "cell_type": "markdown",
   "metadata": {},
   "source": [
    "# Sum revenue into different categories"
   ]
  },
  {
   "cell_type": "code",
   "execution_count": 60,
   "metadata": {},
   "outputs": [
    {
     "name": "stdout",
     "output_type": "stream",
     "text": [
      "{'Pride Festival': '$10,725.00', 'Book Fair': '$25.00', 'Pride Parade': '$50.00', 'Donation': '$22.03', 'Merchandise': '$102.06'}\n",
      "Total donations: $10,924.09\n"
     ]
    }
   ],
   "source": [
    "\n",
    "def categorize_revenue(description, event, source_title):\n",
    "  category = 'unknown'\n",
    "  # determine which category the row belongs to\n",
    "  # Pride festival\n",
    "  # it's the festival if the event contains 'Twin Cities Pride Festival'\n",
    "  if 'twin cities pride festival' in event and ('pride march' not in source_title and 'book fair' not in source_title):\n",
    "    category = 'Pride Festival'\n",
    "\n",
    "  # Pride parade\n",
    "  # It's a parade if the event contains 'Twin Cities Pride Festival' and source title contains \"TC Pride March Application\"\n",
    "  if 'twin cities pride festival' in event and 'pride march' in source_title:\n",
    "    category = 'Pride Parade'\n",
    "  \n",
    "  # Book fair\n",
    "  # book fair is in the event or source title\n",
    "  if 'book fair' in event or 'book fair' in source_title:\n",
    "    category = 'Book Fair'\n",
    "\n",
    "  # Donation\n",
    "  # if 'subscription' is in the description, it's a donation\n",
    "  if 'subscription' in description or 'donation' in description:\n",
    "    category = 'Donation'\n",
    "  \n",
    "  # Merchandise\n",
    "  if 'twin cities pride - order' in description:\n",
    "    category = 'Merchandise'\n",
    "  \n",
    "  return category\n",
    "\n",
    "\n",
    "def check_refund(description, net_donation):\n",
    "  if ('refund' in description or 'return' in description) and net_donation < 0:\n",
    "    return True\n",
    "  else:\n",
    "    return False\n",
    "\n",
    "def safe_lower(input):\n",
    "    if isinstance(input, str):  # Checks if input is a string\n",
    "        return input.lower()\n",
    "    else:\n",
    "        return '' # If not a string, return an empty string\n",
    "\n",
    "def safe_number(input):\n",
    "    if isinstance(input, (int, float)):  # Checks if input is a number\n",
    "        return input\n",
    "    else:\n",
    "        return 0 # If not a number, return 0\n",
    "\n",
    "# Variables\n",
    "category_map = {}\n",
    "total_donations = 0\n",
    "\n",
    "# OPTIONAL - Set the preferred date format\n",
    "preferred_date_format = 'string'\n",
    "# OPTIONAL - Set the preferred date format\n",
    "\n",
    "for index, row in df.iterrows():\n",
    "  description = safe_lower(row['Description'])\n",
    "  event = safe_lower(row['Event'])\n",
    "  source_title = safe_lower(row['Source Title'])\n",
    "  net_donation = safe_number(row['Net Donation'])\n",
    "  \n",
    "  # Categorize\n",
    "  category = categorize_revenue(description, event, source_title)\n",
    "  # Add it to the dataframe\n",
    "  df.at[index, 'Category'] = category\n",
    "  \n",
    "  \n",
    "  # OPTIONAL: Convert the Date column to a string\n",
    "  # If the Date column is a datetime object, convert it to a string\n",
    "  if preferred_date_format == 'string' and isinstance(row['Date'], pd.Timestamp):\n",
    "    df.at[index, 'Date'] = row['Date'].strftime('%m/%d/%Y')\n",
    "  elif preferred_date_format == 'datetime' and isinstance(row['Date'], str):\n",
    "    df.at[index, 'Date'] = pd.to_datetime(row['Date'])\n",
    "  # OPTIONAL: Convert the Date column to a string\n",
    "  \n",
    "  \n",
    "  # Check for refund\n",
    "  is_refund = check_refund(description, net_donation)\n",
    "  \n",
    "  # Add category to map\n",
    "  if category not in category_map:\n",
    "    category_map[category] = 0\n",
    "\n",
    "  # Sum up donations\n",
    "  category_map[category] += net_donation\n",
    "  total_donations += net_donation\n",
    "  \n",
    "  # print('category is:', category, '. refund?:', is_refund)\n",
    "  # Check the description, event, and source against a dictionary of keywords\n",
    "\n",
    "# Loop through the category map and convert the values to currency\n",
    "for key in category_map:\n",
    "  category_map[key] = '${:,.2f}'.format(category_map[key])\n",
    "\n",
    "# convert the total donations to currency\n",
    "total_donations = '${:,.2f}'.format(total_donations)\n",
    "\n",
    "print(category_map)\n",
    "print('Total donations:', total_donations)\n"
   ]
  },
  {
   "cell_type": "markdown",
   "metadata": {},
   "source": [
    "# Convert the dataframe data back into its original form\n"
   ]
  },
  {
   "cell_type": "code",
   "execution_count": 61,
   "metadata": {},
   "outputs": [],
   "source": [
    "# Date conversions might be needed for writing to excel files\n",
    "# df['Date'] = pd.to_datetime(df['Date'],dayfirst=True)\n",
    "\n",
    "# with pd.ExcelWriter('output.xlsx', date_format='mm/dd/yyyy hh:mm:ss', datetime_format='mm/dd/yyyy hh:mm:ss') as writer:\n",
    "#     df.to_excel(writer, index=False)\n",
    "# df['Date'] = pd.to_datetime(df['Date'])\n",
    "\n",
    "\n",
    "# Turn the date into a string\n",
    "# df.at[index, 'Date (as string)'] = row['Date'].strftime('%m/%d/%Y')\n",
    "# df['Date'] = df['Date'].dt.strftime('%m/%d/%Y')\n",
    "\n",
    "\n",
    "\n",
    "# Description\n",
    "# REFUND FOR PAYMENT\n",
    "# One-time donation\n",
    "# Harness custom donation\n",
    "\n",
    "# Event\n",
    "# 2024 Twin Cities Pride Festival\t\n",
    "\n",
    "# Source Title\n",
    "# 2024 Booth Vendor - Pride Festival\n",
    "# 2024 Food Vendor - Pride Festival\n",
    "# 2024 Queer Writes Book Fair @ Pride\n",
    "# 2024 TC Pride March Application"
   ]
  },
  {
   "cell_type": "markdown",
   "metadata": {},
   "source": [
    "# Write data into the template file"
   ]
  },
  {
   "cell_type": "code",
   "execution_count": 62,
   "metadata": {},
   "outputs": [],
   "source": [
    "# Load the pre-formatted Excel template\n",
    "wb = load_workbook('data/output/test_template.xlsx')\n",
    "ws = wb.active\n",
    "\n",
    "\n",
    "# Need to get the column names in order to input all the data in the correct columns\n",
    "# Get the column names from dataframe as an Index object\n",
    "column_names = df.columns\n",
    "\n",
    "# Define starting cell row and column for data insertion\n",
    "start_row = 2\n",
    "start_col = 1\n",
    "\n",
    "# Insert DataFrame data into Excel based on column names\n",
    "for index, row in df.iterrows():\n",
    "    for col_index, column_name in enumerate(column_names):\n",
    "        cell = ws.cell(row=index + start_row, column=col_index + start_col, value=row[column_name])\n",
    "\n",
    "\n",
    "# Save the workbook as the final output\n",
    "wb.save('data/output/final_output_from_template.xlsx')"
   ]
  },
  {
   "cell_type": "markdown",
   "metadata": {},
   "source": [
    "# Methods for writing to a new Excel sheet"
   ]
  },
  {
   "cell_type": "code",
   "execution_count": 63,
   "metadata": {},
   "outputs": [],
   "source": [
    "# # Load the pre-formatted Excel template\n",
    "# wb = load_workbook('data/output/test_template.xlsx')\n",
    "# ws = wb.active\n",
    "\n",
    "# # Loop through the dataframe and write to the Excel template\n",
    "# for index, row in df.iterrows():\n",
    "#     cell = 'A' + str(index + 2)  # Adjust based on where data needs to start\n",
    "#     ws[cell] = row['Date']\n",
    "    \n",
    "\n",
    "# # Assuming data starts at row 2 to preserve headers or formatting in row 1\n",
    "# for index, row in df.iterrows():\n",
    "#     cell = 'A' + str(index + 2)  # Adjust based on where data needs to start\n",
    "#     ws[cell] = row['Date']\n",
    "\n",
    "# # Save the workbook as the final output\n",
    "# wb.save('data/output/final_output_from_template.xlsx')"
   ]
  },
  {
   "cell_type": "code",
   "execution_count": 64,
   "metadata": {},
   "outputs": [],
   "source": [
    "# # Regular method to save the dataframe to an excel file\n",
    "# df.to_excel(new_file_path, index=False)"
   ]
  },
  {
   "cell_type": "markdown",
   "metadata": {},
   "source": [
    "# Use Openpyxl to save the format of each column"
   ]
  },
  {
   "cell_type": "code",
   "execution_count": 65,
   "metadata": {},
   "outputs": [],
   "source": [
    "\n",
    "# # Load the original workbook and active sheet\n",
    "# wb = load_workbook(existing_file_path)\n",
    "# ws = wb.active\n",
    "\n",
    "# # Store formatting in a dictionary\n",
    "# original_formats = []\n",
    "# # Get the second row and iterate through each cell\n",
    "# row = ws[2]\n",
    "# for cell in row:\n",
    "#     # Store number format for each cell\n",
    "#     # Push the column and the number format to the dictionary array\n",
    "#     original_formats.append((cell.column, cell.number_format))\n",
    "\n",
    "\n",
    "\n",
    "# # print each column of the first row\n",
    "# for cell in ws[1]:\n",
    "#     print(cell.value)\n",
    "\n",
    "# print(original_formats)"
   ]
  },
  {
   "cell_type": "markdown",
   "metadata": {},
   "source": [
    "# Use Openpyxl to make formatting changes"
   ]
  },
  {
   "cell_type": "code",
   "execution_count": 66,
   "metadata": {},
   "outputs": [],
   "source": [
    "# from openpyxl import load_workbook, Workbook # *** In python, imports are declared with the structure \"from <module> import <class>\"\n",
    "\n",
    "# # Temporary variable assignment\n",
    "# spreadsheet_title = 'Payout Report for $123.45 on Mar 7 - asdfghjk'\n",
    "# # Temporary variable assignment\n",
    "\n",
    "# # Load worksheet\n",
    "# wb = load_workbook(filename=new_file_path) # load the file path that's been created by the first script\n",
    "# ws = wb.active\n",
    "\n",
    "# # Add revenue categories and donation total\n",
    "# ws.append([])\n",
    "# ws.append([])\n",
    "\n",
    "# # Convert dictionary to list\n",
    "# category_map_list = []\n",
    "# for category in category_map:\n",
    "#   category_map_list.append([category, category_map[category]])\n",
    "# category_map_list.sort()\n",
    "\n",
    "# # TEMPORARY TEST\n",
    "# # test_list = [['Book Fair', 25.0],['Donation', 22.03],['Merchandise', 102.06], ['Pride Festival', 10725.0], ['Pride Parade', 50.0]]\n",
    "# # category_map_list = test_list\n",
    "# # TEMPORARY TEST\n",
    "\n",
    "\n",
    "# # Append the values\n",
    "# for category in category_map_list:\n",
    "#   # Append the category key, and the value as a currency\n",
    "#   ws.append([category[0], category[1]])\n",
    "# ws.append(['Total', total_donations])\n",
    "\n",
    "# # Add spreadsheet title\n",
    "# ws.append([])\n",
    "# ws.append([])\n",
    "# ws.append([spreadsheet_title])\n",
    "\n",
    "# # Save the workbook to a new file\n",
    "# wb.save(new_file_path)"
   ]
  }
 ],
 "metadata": {
  "kernelspec": {
   "display_name": "Python 3",
   "language": "python",
   "name": "python3"
  },
  "language_info": {
   "codemirror_mode": {
    "name": "ipython",
    "version": 3
   },
   "file_extension": ".py",
   "mimetype": "text/x-python",
   "name": "python",
   "nbconvert_exporter": "python",
   "pygments_lexer": "ipython3",
   "version": "3.9.6"
  }
 },
 "nbformat": 4,
 "nbformat_minor": 2
}
