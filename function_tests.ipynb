{
 "cells": [
  {
   "cell_type": "markdown",
   "metadata": {},
   "source": [
    "# Load data"
   ]
  },
  {
   "cell_type": "code",
   "execution_count": 73,
   "metadata": {},
   "outputs": [],
   "source": [
    "import pandas as pd\n",
    "\n",
    "# existing_file_path = 'data/input/test_input.xlsx'\n",
    "# existing_file_path = 'data/input/test_input_minimized.xlsx'\n",
    "existing_file_path = 'data/input/test_data_table.xlsx'\n",
    "\n",
    "df = pd.read_excel(existing_file_path)"
   ]
  },
  {
   "cell_type": "markdown",
   "metadata": {},
   "source": [
    "# Reading data with pandas"
   ]
  },
  {
   "cell_type": "code",
   "execution_count": 74,
   "metadata": {},
   "outputs": [],
   "source": [
    "# Read the entire dataframe\n",
    "# df\n",
    "\n",
    "## Read headers\n",
    "# print(df.columns)\n",
    "\n",
    "## Read individual columns\n",
    "# print(df.Date)\n",
    "#  or\n",
    "# print(df['Net Donation'])\n",
    "#  or\n",
    "# print(df[['Date', \"Description\", \"Net Donation\"]])\n",
    "\n",
    "## Read top 3 rows\n",
    "# print(df.head(3))\n",
    "\n",
    "## Read row 3 (which has an index of 2),\n",
    "# print(df.iloc[2])\n",
    "# then 1-5 (which is index 0-4)\n",
    "# print(df.iloc[0:5])\n",
    "# Read specific location (R, C)\n",
    "# print(df.iloc[2, 1]) # 3rd row, 2nd column\n",
    "\n",
    "## Iterate over rows\n",
    "# for index, row in df.iterrows():\n",
    "    # print(index, row['Date'], row['Description'])\n",
    "    # print(index, row)\n",
    "    # print(index, row.Date)\n",
    "\n",
    "# Conditional selection of rows\n",
    "# df.loc[df['Net Donation'] > 60]\n",
    "\n",
    "# Generate statistics\n",
    "# df.describe()\n"
   ]
  },
  {
   "cell_type": "markdown",
   "metadata": {},
   "source": [
    "# Sorting data"
   ]
  },
  {
   "cell_type": "code",
   "execution_count": 80,
   "metadata": {},
   "outputs": [
    {
     "data": {
      "text/html": [
       "<div>\n",
       "<style scoped>\n",
       "    .dataframe tbody tr th:only-of-type {\n",
       "        vertical-align: middle;\n",
       "    }\n",
       "\n",
       "    .dataframe tbody tr th {\n",
       "        vertical-align: top;\n",
       "    }\n",
       "\n",
       "    .dataframe thead th {\n",
       "        text-align: right;\n",
       "    }\n",
       "</style>\n",
       "<table border=\"1\" class=\"dataframe\">\n",
       "  <thead>\n",
       "    <tr style=\"text-align: right;\">\n",
       "      <th></th>\n",
       "      <th>Date</th>\n",
       "      <th>Description</th>\n",
       "      <th>Net Donation</th>\n",
       "      <th>Stripe Fee</th>\n",
       "      <th>Platform Fee</th>\n",
       "      <th>Total Gross Donation</th>\n",
       "      <th>Email</th>\n",
       "      <th>Event</th>\n",
       "      <th>Source Title</th>\n",
       "    </tr>\n",
       "  </thead>\n",
       "  <tbody>\n",
       "    <tr>\n",
       "      <th>6</th>\n",
       "      <td>2024-03-07</td>\n",
       "      <td>follylollycontact@gmail.com</td>\n",
       "      <td>775.00</td>\n",
       "      <td>NaN</td>\n",
       "      <td>NaN</td>\n",
       "      <td>775.00</td>\n",
       "      <td>follylollycontact@gmail.com</td>\n",
       "      <td>2024 Twin Cities Pride Festival</td>\n",
       "      <td>2024 Booth Vendor - Pride Festival</td>\n",
       "    </tr>\n",
       "    <tr>\n",
       "      <th>5</th>\n",
       "      <td>2024-03-07</td>\n",
       "      <td>reese@joycoast.com</td>\n",
       "      <td>100.00</td>\n",
       "      <td>NaN</td>\n",
       "      <td>NaN</td>\n",
       "      <td>100.00</td>\n",
       "      <td>reese@joycoast.com</td>\n",
       "      <td>2024 Twin Cities Pride Festival</td>\n",
       "      <td>2024 Booth Vendor - Pride Festival</td>\n",
       "    </tr>\n",
       "    <tr>\n",
       "      <th>1</th>\n",
       "      <td>2024-03-08</td>\n",
       "      <td>sheila.sylvander@hennepintech.edu</td>\n",
       "      <td>50.00</td>\n",
       "      <td>NaN</td>\n",
       "      <td>NaN</td>\n",
       "      <td>50.00</td>\n",
       "      <td>sheila.sylvander@hennepintech.edu</td>\n",
       "      <td>2024 Twin Cities Pride Festival</td>\n",
       "      <td>2024 Booth Vendor - Pride Festival</td>\n",
       "    </tr>\n",
       "    <tr>\n",
       "      <th>0</th>\n",
       "      <td>2024-03-08</td>\n",
       "      <td>lisa.determan@pentair.com</td>\n",
       "      <td>50.00</td>\n",
       "      <td>NaN</td>\n",
       "      <td>NaN</td>\n",
       "      <td>50.00</td>\n",
       "      <td>lisa.determan@pentair.com</td>\n",
       "      <td>2024 Twin Cities Pride Festival</td>\n",
       "      <td>2024 TC Pride March Application</td>\n",
       "    </tr>\n",
       "    <tr>\n",
       "      <th>2</th>\n",
       "      <td>2024-03-08</td>\n",
       "      <td>madisen@meals-on-wheels.com</td>\n",
       "      <td>50.00</td>\n",
       "      <td>NaN</td>\n",
       "      <td>NaN</td>\n",
       "      <td>50.00</td>\n",
       "      <td>madisen@meals-on-wheels.com</td>\n",
       "      <td>2024 Twin Cities Pride Festival</td>\n",
       "      <td>2024 TC Pride March Application</td>\n",
       "    </tr>\n",
       "    <tr>\n",
       "      <th>4</th>\n",
       "      <td>2024-03-08</td>\n",
       "      <td>Subscription update</td>\n",
       "      <td>30.16</td>\n",
       "      <td>1.24</td>\n",
       "      <td>0.9</td>\n",
       "      <td>32.30</td>\n",
       "      <td>NaN</td>\n",
       "      <td>NaN</td>\n",
       "      <td>NaN</td>\n",
       "    </tr>\n",
       "    <tr>\n",
       "      <th>3</th>\n",
       "      <td>2024-03-08</td>\n",
       "      <td>Twin Cities Pride - Order 42731</td>\n",
       "      <td>102.06</td>\n",
       "      <td>3.36</td>\n",
       "      <td>NaN</td>\n",
       "      <td>105.42</td>\n",
       "      <td>NaN</td>\n",
       "      <td>NaN</td>\n",
       "      <td>NaN</td>\n",
       "    </tr>\n",
       "  </tbody>\n",
       "</table>\n",
       "</div>"
      ],
      "text/plain": [
       "        Date                        Description  Net Donation  Stripe Fee  \\\n",
       "6 2024-03-07        follylollycontact@gmail.com        775.00         NaN   \n",
       "5 2024-03-07                 reese@joycoast.com        100.00         NaN   \n",
       "1 2024-03-08  sheila.sylvander@hennepintech.edu         50.00         NaN   \n",
       "0 2024-03-08          lisa.determan@pentair.com         50.00         NaN   \n",
       "2 2024-03-08        madisen@meals-on-wheels.com         50.00         NaN   \n",
       "4 2024-03-08                Subscription update         30.16        1.24   \n",
       "3 2024-03-08    Twin Cities Pride - Order 42731        102.06        3.36   \n",
       "\n",
       "   Platform Fee  Total Gross Donation                              Email  \\\n",
       "6           NaN                775.00        follylollycontact@gmail.com   \n",
       "5           NaN                100.00                 reese@joycoast.com   \n",
       "1           NaN                 50.00  sheila.sylvander@hennepintech.edu   \n",
       "0           NaN                 50.00          lisa.determan@pentair.com   \n",
       "2           NaN                 50.00        madisen@meals-on-wheels.com   \n",
       "4           0.9                 32.30                                NaN   \n",
       "3           NaN                105.42                                NaN   \n",
       "\n",
       "                             Event                        Source Title  \n",
       "6  2024 Twin Cities Pride Festival  2024 Booth Vendor - Pride Festival  \n",
       "5  2024 Twin Cities Pride Festival  2024 Booth Vendor - Pride Festival  \n",
       "1  2024 Twin Cities Pride Festival  2024 Booth Vendor - Pride Festival  \n",
       "0  2024 Twin Cities Pride Festival     2024 TC Pride March Application  \n",
       "2  2024 Twin Cities Pride Festival     2024 TC Pride March Application  \n",
       "4                              NaN                                 NaN  \n",
       "3                              NaN                                 NaN  "
      ]
     },
     "execution_count": 80,
     "metadata": {},
     "output_type": "execute_result"
    }
   ],
   "source": [
    "# df # Before sorting\n",
    "\n",
    "# Sorting by single columns\n",
    "# df = df.sort_values(by=['Description'])\n",
    "# df = df.sort_values(by=['Event'])\n",
    "# df = df.sort_values(by=['Source Title'])\n",
    "\n",
    "# Sorting can be done on multiple columns with this one line of code\n",
    "df = df.sort_values(by=['Source Title','Event','Description'])\n",
    "\n",
    "df # After sorting"
   ]
  },
  {
   "cell_type": "markdown",
   "metadata": {},
   "source": [
    "# Sum revenue into different categories"
   ]
  },
  {
   "cell_type": "code",
   "execution_count": 79,
   "metadata": {},
   "outputs": [
    {
     "name": "stdout",
     "output_type": "stream",
     "text": [
      "{'2024 Booth Vendor - Pride Festival': ['2024 Twin Cities Pride Festival', '2024 Twin Cities Pride Festival', '2024 Twin Cities Pride Festival'], '2024 TC Pride March Application': ['2024 Twin Cities Pride Festival', '2024 Twin Cities Pride Festival'], nan: [nan, nan]}\n"
     ]
    }
   ],
   "source": [
    "categoryDictionary = {}\n",
    "\n",
    "for index, row in df.iterrows():\n",
    "  if row['Source Title'] not in categoryDictionary:\n",
    "    categoryDictionary[row['Source Title']] = []\n",
    "  categoryDictionary[row['Source Title']].append(row['Event'])\n",
    "# print as a json object\n",
    "print(categoryDictionary)"
   ]
  },
  {
   "cell_type": "markdown",
   "metadata": {},
   "source": [
    "# Convert the dataframe data back into its original form\n"
   ]
  },
  {
   "cell_type": "code",
   "execution_count": null,
   "metadata": {},
   "outputs": [],
   "source": [
    "# Date conversions might be needed for writing to excel files\n",
    "# df['Date'] = pd.to_datetime(df['Date'],dayfirst=True)\n",
    "\n",
    "# Description\n",
    "# REFUND FOR PAYMENT\n",
    "# One-time donation\n",
    "# Harness custom donation\n",
    "\n",
    "# Event\n",
    "# 2024 Twin Cities Pride Festival\t\n",
    "\n",
    "# Source Title\n",
    "# 2024 Booth Vendor - Pride Festival\n",
    "# 2024 Food Vendor - Pride Festival\n",
    "# 2024 Queer Writes Book Fair @ Pride\n",
    "# 2024 TC Pride March Application"
   ]
  },
  {
   "cell_type": "markdown",
   "metadata": {},
   "source": [
    "# Write to Excel"
   ]
  },
  {
   "cell_type": "code",
   "execution_count": null,
   "metadata": {},
   "outputs": [],
   "source": [
    "# df.to_excel('data/output/test_output.xlsx', index=False)"
   ]
  }
 ],
 "metadata": {
  "kernelspec": {
   "display_name": "Python 3",
   "language": "python",
   "name": "python3"
  },
  "language_info": {
   "codemirror_mode": {
    "name": "ipython",
    "version": 3
   },
   "file_extension": ".py",
   "mimetype": "text/x-python",
   "name": "python",
   "nbconvert_exporter": "python",
   "pygments_lexer": "ipython3",
   "version": "3.9.6"
  }
 },
 "nbformat": 4,
 "nbformat_minor": 2
}
