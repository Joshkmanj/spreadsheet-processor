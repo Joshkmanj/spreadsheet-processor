{
 "cells": [
  {
   "cell_type": "markdown",
   "metadata": {},
   "source": [
    "# Load data"
   ]
  },
  {
   "cell_type": "code",
   "execution_count": 2,
   "metadata": {},
   "outputs": [],
   "source": [
    "# Load openpyxl\n",
    "from openpyxl import load_workbook, Workbook\n",
    "from openpyxl.utils.dataframe import dataframe_to_rows\n",
    "from openpyxl.styles import Font\n",
    "from openpyxl.utils import get_column_letter"
   ]
  },
  {
   "cell_type": "code",
   "execution_count": 3,
   "metadata": {},
   "outputs": [],
   "source": [
    "import pandas as pd\n",
    "\n",
    "existing_file_path = 'data/input/test_input.xlsx'\n",
    "# existing_file_path = 'data/input/test_input_minimized.xlsx'\n",
    "# existing_file_path = 'data/input/test_data_table.xlsx'\n",
    "# existing_file_path = 'data/input/tc_pride_data.xlsx'\n",
    "new_file_path = 'data/output/test_output.xlsx'\n",
    "\n",
    "\n",
    "# Start reading the data from the second row\n",
    "df = pd.read_excel(existing_file_path, header=1)\n",
    "\n",
    "# df = pd.read_excel(existing_file_path)"
   ]
  },
  {
   "cell_type": "markdown",
   "metadata": {},
   "source": [
    "# Reading data with pandas"
   ]
  },
  {
   "cell_type": "code",
   "execution_count": 4,
   "metadata": {},
   "outputs": [],
   "source": [
    "# Read the entire dataframe\n",
    "# df\n",
    "\n",
    "## Read headers\n",
    "# print(df.columns)\n",
    "\n",
    "## Read individual columns\n",
    "# print(df.Date)\n",
    "#  or\n",
    "# print(df['Net Donation'])\n",
    "#  or\n",
    "# print(df[['Date', \"Description\", \"Net Donation\"]])\n",
    "\n",
    "## Read top 3 rows\n",
    "# print(df.head(3))\n",
    "\n",
    "## Read row 3 (which has an index of 2),\n",
    "# print(df.iloc[2])\n",
    "# then 1-5 (which is index 0-4)\n",
    "# print(df.iloc[0:5])\n",
    "# Read specific location (R, C)\n",
    "# print(df.iloc[2, 1]) # 3rd row, 2nd column\n",
    "\n",
    "## Iterate over rows\n",
    "# for index, row in df.iterrows():\n",
    "    # print(index, row['Date'], row['Description'])\n",
    "    # print(index, row)\n",
    "    # print(index, row.Date)\n",
    "\n",
    "# Conditional selection of rows\n",
    "# df.loc[df['Net Donation'] > 60]\n",
    "\n",
    "# Generate statistics\n",
    "# df.describe()\n"
   ]
  },
  {
   "cell_type": "markdown",
   "metadata": {},
   "source": [
    "# Sorting data"
   ]
  },
  {
   "cell_type": "code",
   "execution_count": 5,
   "metadata": {},
   "outputs": [],
   "source": [
    "# df # Before sorting\n",
    "\n",
    "# Sorting by single columns\n",
    "# df = df.sort_values(by=['Description'])\n",
    "# df = df.sort_values(by=['Event'])\n",
    "# df = df.sort_values(by=['Source Title'])\n",
    "\n",
    "# Sorting can be done on multiple columns with this one line of code\n",
    "df = df.sort_values(by=['Source Title','Event','Description'])\n",
    "\n",
    "# print(df)\n",
    "# df # After sorting"
   ]
  },
  {
   "cell_type": "markdown",
   "metadata": {},
   "source": [
    "# Sum revenue into different categories"
   ]
  },
  {
   "cell_type": "code",
   "execution_count": 6,
   "metadata": {},
   "outputs": [],
   "source": [
    "\n",
    "def categorize_revenue(description, event, source_title):\n",
    "  category = 'unknown'\n",
    "  # determine which category the row belongs to\n",
    "  # Pride festival\n",
    "  # it's the festival if the event contains 'Twin Cities Pride Festival'\n",
    "  if 'twin cities pride festival' in event and ('pride march' not in source_title and 'book fair' not in source_title):\n",
    "    category = 'Pride Festival'\n",
    "\n",
    "  # Pride parade\n",
    "  # It's a parade if the event contains 'Twin Cities Pride Festival' and source title contains \"TC Pride March Application\"\n",
    "  if 'twin cities pride festival' in event and 'pride march' in source_title:\n",
    "    category = 'Pride Parade'\n",
    "  \n",
    "  # Book fair\n",
    "  # book fair is in the event or source title\n",
    "  if 'book fair' in event or 'book fair' in source_title:\n",
    "    category = 'Book Fair'\n",
    "\n",
    "  # Donation\n",
    "  # if 'subscription' is in the description, it's a donation\n",
    "  if 'subscription' in description or 'donation' in description:\n",
    "    category = 'Donation'\n",
    "  \n",
    "  # Merchandise\n",
    "  if 'twin cities pride - order' in description:\n",
    "    category = 'Merchandise'\n",
    "  \n",
    "  return category\n",
    "\n",
    "\n",
    "def check_refund(description, net_donation):\n",
    "  if ('refund' in description or 'return' in description) and net_donation < 0:\n",
    "    return True\n",
    "  else:\n",
    "    return False\n",
    "\n",
    "def safe_lower(input):\n",
    "    if isinstance(input, str):  # Checks if input is a string\n",
    "        return input.lower()\n",
    "    else:\n",
    "        return '' # If not a string, return an empty string\n",
    "\n",
    "def safe_number(input):\n",
    "    if isinstance(input, (int, float)):  # Checks if input is a number\n",
    "        return input\n",
    "    else:\n",
    "        return 0 # If not a number, return 0\n",
    "\n",
    "# Variables\n",
    "category_map = {}\n",
    "total_donations = 0\n",
    "\n",
    "# OPTIONAL - Set the preferred date format\n",
    "preferred_date_format = 'string'\n",
    "# OPTIONAL - Set the preferred date format\n",
    "\n",
    "for index, row in df.iterrows():\n",
    "  description = safe_lower(row['Description'])\n",
    "  event = safe_lower(row['Event'])\n",
    "  source_title = safe_lower(row['Source Title'])\n",
    "  net_donation = safe_number(row['Net Donation'])\n",
    "  \n",
    "  # Categorize\n",
    "  category = categorize_revenue(description, event, source_title)\n",
    "  # Add it to the dataframe\n",
    "  df.at[index, 'Category'] = category\n",
    "  \n",
    "  \n",
    "  # OPTIONAL: Convert the Date column to a string\n",
    "  # If the Date column is a datetime object, convert it to a string\n",
    "  if preferred_date_format == 'string' and isinstance(row['Date'], pd.Timestamp):\n",
    "    df.at[index, 'Date'] = row['Date'].strftime('%m/%d/%Y')\n",
    "  elif preferred_date_format == 'datetime' and isinstance(row['Date'], str):\n",
    "    df.at[index, 'Date'] = pd.to_datetime(row['Date'])\n",
    "  # OPTIONAL: Convert the Date column to a string\n",
    "  \n",
    "  \n",
    "  # Check for refund\n",
    "  is_refund = check_refund(description, net_donation)\n",
    "  \n",
    "  # Add category to map\n",
    "  if category not in category_map:\n",
    "    category_map[category] = 0\n",
    "\n",
    "  # Sum up donations\n",
    "  category_map[category] += net_donation\n",
    "  total_donations += net_donation\n",
    "  \n",
    "  # print('category is:', category, '. refund?:', is_refund)\n",
    "  # Check the description, event, and source against a dictionary of keywords\n",
    "\n",
    "# print(category_map)\n",
    "# print('Total donations:', total_donations)\n"
   ]
  },
  {
   "cell_type": "markdown",
   "metadata": {},
   "source": [
    "# Convert the dataframe data back into its original form\n"
   ]
  },
  {
   "cell_type": "code",
   "execution_count": 7,
   "metadata": {},
   "outputs": [],
   "source": [
    "# Date conversions might be needed for writing to excel files\n",
    "# df['Date'] = pd.to_datetime(df['Date'])\n",
    "\n",
    "# Turn the date into a string\n",
    "# df.at[index, 'Date (as string)'] = row['Date'].strftime('%m/%d/%Y')\n",
    "# df['Date'] = df['Date'].dt.strftime('%m/%d/%Y')"
   ]
  },
  {
   "cell_type": "markdown",
   "metadata": {},
   "source": [
    "# Openpyxl to write data into a template file"
   ]
  },
  {
   "cell_type": "code",
   "execution_count": 8,
   "metadata": {},
   "outputs": [
    {
     "data": {
      "text/plain": [
       "\"\\n\\n# Load the pre-formatted Excel template\\nwb = load_workbook('data/output/test_template.xlsx')\\nws = wb.active\\n\\n\\n# Need to get the column names in order to input all the data in the correct columns\\n# Get the column names from dataframe as an Index object\\ncolumn_names = df.columns\\n\\n# Define starting cell row and column for data insertion\\nstart_row = 2\\nstart_col = 1\\n\\n# Insert DataFrame data into Excel based on column names\\nfor index, row in df.iterrows():\\n    for col_index, column_name in enumerate(column_names):\\n        cell = ws.cell(row=index + start_row, column=col_index + start_col, value=row[column_name])\\n\\n\\n# Save the workbook as the final output\\nwb.save('data/output/final_output_from_template.xlsx')\""
      ]
     },
     "execution_count": 8,
     "metadata": {},
     "output_type": "execute_result"
    }
   ],
   "source": [
    "# This uses openpyxl to load the pre-formatted Excel template and insert the data from the DataFrame into the correct columns\n",
    "\"\"\"\n",
    "\n",
    "# Load the pre-formatted Excel template\n",
    "wb = load_workbook('data/output/test_template.xlsx')\n",
    "ws = wb.active\n",
    "\n",
    "\n",
    "# Need to get the column names in order to input all the data in the correct columns\n",
    "# Get the column names from dataframe as an Index object\n",
    "column_names = df.columns\n",
    "\n",
    "# Define starting cell row and column for data insertion\n",
    "start_row = 2\n",
    "start_col = 1\n",
    "\n",
    "# Insert DataFrame data into Excel based on column names\n",
    "for index, row in df.iterrows():\n",
    "    for col_index, column_name in enumerate(column_names):\n",
    "        cell = ws.cell(row=index + start_row, column=col_index + start_col, value=row[column_name])\n",
    "\n",
    "\n",
    "# Save the workbook as the final output\n",
    "wb.save('data/output/final_output_from_template.xlsx')\"\"\""
   ]
  },
  {
   "cell_type": "markdown",
   "metadata": {},
   "source": [
    "# Pandas writing to a new Excel sheet"
   ]
  },
  {
   "cell_type": "code",
   "execution_count": 9,
   "metadata": {},
   "outputs": [],
   "source": [
    "# Pandas method to save the dataframe to an excel file\n",
    "df.to_excel(new_file_path, index=False)\n",
    "\n",
    "# Alternative saving method, this tries to preserve date column format using Pandas\n",
    "# with pd.ExcelWriter('output.xlsx', date_format='mm/dd/yyyy hh:mm:ss', datetime_format='mm/dd/yyyy hh:mm:ss') as writer:\n",
    "#     df.to_excel(writer, index=False)"
   ]
  },
  {
   "cell_type": "markdown",
   "metadata": {},
   "source": [
    "# Use Openpyxl to make formatting changes"
   ]
  },
  {
   "cell_type": "markdown",
   "metadata": {},
   "source": [
    "### Use Openpyxl to save the format of each column before they're overwritten"
   ]
  },
  {
   "cell_type": "code",
   "execution_count": 10,
   "metadata": {},
   "outputs": [
    {
     "name": "stdout",
     "output_type": "stream",
     "text": [
      "[(1, 'General'), (2, 'General'), (3, 'General'), (4, 'General'), (5, 'General'), (6, 'General'), (7, 'General'), (8, 'General'), (9, 'General'), (10, 'General'), (11, 'General'), (12, 'General'), (13, 'General'), (14, 'General'), (15, 'General'), (16, 'General'), (17, 'General'), (18, 'General'), (19, 'General'), (20, 'General'), (21, 'General'), (22, 'General'), (23, 'General'), (24, 'General'), (25, 'General'), (26, 'General'), (27, 'General'), (28, 'General'), (29, 'General'), (30, 'General'), (31, 'General'), (32, 'General'), (33, 'General'), (34, 'General'), (35, 'General'), (36, 'General'), (37, 'General'), (38, 'General'), (39, 'General'), (40, 'General'), (41, 'General'), (42, 'General'), (43, 'General'), (44, 'General')]\n"
     ]
    }
   ],
   "source": [
    "# This logic is not needed\n",
    "\"\"\"# Load the original workbook and active sheet\n",
    "wb = load_workbook(existing_file_path)\n",
    "ws = wb.active\n",
    "\n",
    "# Store formatting in a dictionary\n",
    "original_formats = []\n",
    "# Get the second row and iterate through each cell\n",
    "row = ws[2]\n",
    "for cell in row:\n",
    "    # Push the column and the current format to the dictionary array\n",
    "    original_formats.append((cell.column, cell.number_format))\n",
    "\n",
    "print(original_formats)\"\"\""
   ]
  },
  {
   "cell_type": "code",
   "execution_count": 11,
   "metadata": {},
   "outputs": [],
   "source": [
    "# Load worksheet\n",
    "wb = load_workbook(filename=new_file_path) # load the file path that's been created by the first script\n",
    "ws = wb.active"
   ]
  },
  {
   "cell_type": "markdown",
   "metadata": {},
   "source": [
    "### Currency/Date number formatting for cells"
   ]
  },
  {
   "cell_type": "code",
   "execution_count": 12,
   "metadata": {},
   "outputs": [],
   "source": [
    "format_dictionary = {\n",
    "    'currency':'\"$\"#,##0.00',\n",
    "    'date':'d-mmm-yy'\n",
    "    }\n",
    "\n",
    "important_columns = {\n",
    "    'Category': 'general', # this has to remain a default column\n",
    "    'Date': 'date',\n",
    "    'Description': 'general',\n",
    "    'Net Donation': 'currency',\n",
    "    'Stripe Fee': 'currency',\n",
    "    'Platform Fee': 'currency',\n",
    "    'Total Gross Donation': 'currency',\n",
    "    'Event': 'general',\n",
    "    'Source Title': 'general' \n",
    "                    }\n",
    "\n",
    "# Loop through the ws columns\n",
    "for col in ws.columns:\n",
    "    column_name = col[0].value\n",
    "    print(column_name)\n",
    "    # Check if the column is in the important_columns dictionary\n",
    "    if column_name in important_columns and important_columns[column_name] in format_dictionary:\n",
    "        print('Formatting column', column_name)\n",
    "        # Get the format from the dictionary\n",
    "        col_format = format_dictionary[important_columns[column_name]]\n",
    "        # Apply the format to the entire column\n",
    "        for cell in col:\n",
    "            cell.number_format = col_format"
   ]
  },
  {
   "cell_type": "markdown",
   "metadata": {},
   "source": [
    "### Color formatting the cells"
   ]
  },
  {
   "cell_type": "code",
   "execution_count": 13,
   "metadata": {},
   "outputs": [],
   "source": [
    "# Loop through the columns\n",
    "for col in ws.columns:\n",
    "    # Check if the column is in the columns_to_color list\n",
    "    if col[0].value in important_columns and important_columns[col[0].value] == 'currency':\n",
    "        for cell in col:\n",
    "            number_value = cell.value\n",
    "            if isinstance(number_value, (int, float)):\n",
    "                if number_value < 0:\n",
    "                    cell.font = Font(color='FF0000')"
   ]
  },
  {
   "cell_type": "markdown",
   "metadata": {},
   "source": [
    "### Hide all columns that are not needed"
   ]
  },
  {
   "cell_type": "code",
   "execution_count": 14,
   "metadata": {},
   "outputs": [
    {
     "name": "stdout",
     "output_type": "stream",
     "text": [
      "showing column: Date\n",
      "Hiding column Time\n",
      "showing column: Description\n",
      "showing column: Net Donation\n",
      "Hiding column Fees Covered\n",
      "showing column: Stripe Fee\n",
      "showing column: Platform Fee\n",
      "showing column: Total Gross Donation\n",
      "Hiding column Payment Type\n",
      "Hiding column Brand\n",
      "Hiding column Exp Month\n",
      "Hiding column Exp Year\n",
      "Hiding column Last4\n",
      "Hiding column stripe_charge_id\n",
      "Hiding column Business ID\n",
      "Hiding column Business Name\n",
      "Hiding column Email\n",
      "showing column: Event\n",
      "Hiding column Event ID\n",
      "Hiding column Name\n",
      "Hiding column Price IDs\n",
      "Hiding column Price Name\n",
      "Hiding column Source\n",
      "showing column: Source Title\n",
      "Hiding column customer_email\n",
      "Hiding column customer_name\n",
      "Hiding column order_id\n",
      "Hiding column site_url\n",
      "Hiding column charity_id\n",
      "Hiding column charity_name\n",
      "Hiding column donor_email\n",
      "Hiding column fee_paid_by_donor\n",
      "Hiding column first_name\n",
      "Hiding column harness_id\n",
      "Hiding column harness_platform\n",
      "Hiding column honor_from\n",
      "Hiding column honor_message\n",
      "Hiding column honor_name\n",
      "Hiding column last_name\n",
      "Hiding column to_charity\n",
      "Hiding column type\n",
      "Hiding column Event Business ID\n",
      "Hiding column Purchase IDs\n",
      "Hiding column Submission ID\n",
      "showing column: Category\n"
     ]
    }
   ],
   "source": [
    "# Loop through each column in the worksheet\n",
    "for col in ws.columns:\n",
    "    column_name = col[0].value\n",
    "    if column_name not in important_columns:\n",
    "        ws.column_dimensions[get_column_letter(col[0].column)].hidden = True"
   ]
  },
  {
   "cell_type": "markdown",
   "metadata": {},
   "source": [
    "### Adding the categories and totals"
   ]
  },
  {
   "cell_type": "code",
   "execution_count": 15,
   "metadata": {},
   "outputs": [],
   "source": [
    "# Add revenue categories and donation total\n",
    "\n",
    "# Convert dictionary to list\n",
    "category_map_list = []\n",
    "for category in category_map:\n",
    "  category_map_list.append([category, category_map[category]])\n",
    "category_map_list.sort()\n",
    "\n",
    "# Temporary variable assignment\n",
    "spreadsheet_title = 'Payout Report for $123.45 on Mar 7 - asdfghjk'\n",
    "# Temporary variable assignment\n",
    "\n",
    "cells_to_convert_to_currency = []\n",
    "label_column = ''\n",
    "value_column = ''\n",
    "\n",
    "# Figure out where to place the label and value columns\n",
    "for col in ws.columns:\n",
    "  if col[0].value in important_columns:\n",
    "    if label_column == '':\n",
    "      label_column = get_column_letter(col[0].column)\n",
    "    else:\n",
    "      value_column = get_column_letter(col[0].column)\n",
    "      break\n",
    "\n",
    "# Add the categories to the worksheet\n",
    "row = ws.max_row + 3 # Start 3 rows below the last row\n",
    "for category in category_map_list:\n",
    "    label = category[0]\n",
    "    value = category[1]\n",
    "    ws[f\"{label_column}{row}\"] = label\n",
    "    ws[f\"{value_column}{row}\"] = value\n",
    "    cells_to_convert_to_currency.append(f\"{value_column}{row}\")\n",
    "    row += 1\n",
    "ws[f\"{label_column}{row}\"] = 'Total'\n",
    "ws[f\"{value_column}{row}\"] = total_donations\n",
    "\n",
    "# Add spreadsheet title with two buffer rows\n",
    "row += 3\n",
    "ws[f\"{label_column}{row}\"] = spreadsheet_title\n",
    "\n",
    "# Loop through the cells and convert to currency\n",
    "for cell in cells_to_convert_to_currency:\n",
    "  ws[f\"{cell}\"].number_format = '\"$\"#,##0.00'"
   ]
  },
  {
   "cell_type": "markdown",
   "metadata": {},
   "source": [
    "### Resize the column width to fit the data"
   ]
  },
  {
   "cell_type": "code",
   "execution_count": 16,
   "metadata": {},
   "outputs": [],
   "source": [
    "default_column_widths = {\n",
    "    'date': 20,\n",
    "    'currency': 17,\n",
    "    'general': 30\n",
    "}\n",
    "\n",
    "# Loop through the columns and set the width\n",
    "for col in ws.columns:\n",
    "    col_letter = get_column_letter(col[0].column)\n",
    "    # If the column is in the important columns dictionary\n",
    "    if col[0].value in important_columns:\n",
    "        column_name = col[0].value\n",
    "        width = default_column_widths[important_columns[column_name]]\n",
    "        ws.column_dimensions[col_letter].width = width\n"
   ]
  },
  {
   "cell_type": "markdown",
   "metadata": {},
   "source": [
    "### Save the file"
   ]
  },
  {
   "cell_type": "code",
   "execution_count": 17,
   "metadata": {},
   "outputs": [],
   "source": [
    "# Save the workbook to a new file\n",
    "wb.save(new_file_path)"
   ]
  }
 ],
 "metadata": {
  "kernelspec": {
   "display_name": "Python 3",
   "language": "python",
   "name": "python3"
  },
  "language_info": {
   "codemirror_mode": {
    "name": "ipython",
    "version": 3
   },
   "file_extension": ".py",
   "mimetype": "text/x-python",
   "name": "python",
   "nbconvert_exporter": "python",
   "pygments_lexer": "ipython3",
   "version": "3.9.6"
  }
 },
 "nbformat": 4,
 "nbformat_minor": 2
}
